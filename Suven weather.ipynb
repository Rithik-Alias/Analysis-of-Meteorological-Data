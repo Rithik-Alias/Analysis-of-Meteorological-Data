!git clone --recursive https://github.com/Rithik-Alias/Analysis-of-Meteorological-Data.git
%cd /content/Analysis-of-Meteorological-Data
